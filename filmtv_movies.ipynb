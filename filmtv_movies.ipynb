{
 "cells": [
  {
   "cell_type": "markdown",
   "metadata": {},
   "source": [
    "#Inisiasi SparkSession"
   ]
  },
  {
   "cell_type": "code",
   "execution_count": 284,
   "metadata": {},
   "outputs": [],
   "source": [
    "from pyspark.sql import SparkSession\n",
    "from pyspark.sql.functions import isnan, isnull, when, count, col"
   ]
  },
  {
   "cell_type": "code",
   "execution_count": 285,
   "metadata": {},
   "outputs": [],
   "source": [
    "spark = SparkSession.builder.appName(\"filmtv_movies\").getOrCreate()"
   ]
  },
  {
   "cell_type": "markdown",
   "metadata": {},
   "source": [
    "#Load and Read Data"
   ]
  },
  {
   "cell_type": "code",
   "execution_count": 286,
   "metadata": {},
   "outputs": [],
   "source": [
    "df = spark.read.csv(\"datasets/filmtv_movies_ENG.csv\", header=True, inferSchema=True)"
   ]
  },
  {
   "cell_type": "code",
   "execution_count": 287,
   "metadata": {},
   "outputs": [],
   "source": [
    "df = df [['duration','avg_vote','critics_vote','public_vote','total_votes','year','title']]"
   ]
  },
  {
   "cell_type": "code",
   "execution_count": 288,
   "metadata": {},
   "outputs": [
    {
     "name": "stdout",
     "output_type": "stream",
     "text": [
      "+--------+--------+------------+-----------+-----------+----+-----+\n",
      "|duration|avg_vote|critics_vote|public_vote|total_votes|year|title|\n",
      "+--------+--------+------------+-----------+-----------+----+-----+\n",
      "|       0|       0|        4085|        219|          0|   0|    0|\n",
      "+--------+--------+------------+-----------+-----------+----+-----+\n",
      "\n",
      "data awal :  37711\n"
     ]
    }
   ],
   "source": [
    "df.select([count(when(isnan(c) | col(c).isNull(), c)).alias(c) for c in df.columns]).show(5)\n",
    "c1 = df.count()\n",
    "print(\"data awal : \", c1)"
   ]
  },
  {
   "cell_type": "markdown",
   "metadata": {},
   "source": [
    "#Hapus Missing Data"
   ]
  },
  {
   "cell_type": "code",
   "execution_count": 289,
   "metadata": {},
   "outputs": [
    {
     "name": "stdout",
     "output_type": "stream",
     "text": [
      "data setelah dihapus :  33407\n"
     ]
    }
   ],
   "source": [
    "df = df.dropna()\n",
    "c2 = df.count()\n",
    "print(\"data setelah dihapus : \", c2)"
   ]
  },
  {
   "cell_type": "markdown",
   "metadata": {},
   "source": [
    "Hapus Duplicate Data"
   ]
  },
  {
   "cell_type": "code",
   "execution_count": 290,
   "metadata": {},
   "outputs": [
    {
     "name": "stdout",
     "output_type": "stream",
     "text": [
      "total data duplicate yang dihapus :  1\n"
     ]
    }
   ],
   "source": [
    "df = df.dropDuplicates()\n",
    "c3 = c2 - df.count()\n",
    "print(\"total data duplicate yang dihapus : \",c3 )\n"
   ]
  },
  {
   "cell_type": "code",
   "execution_count": 291,
   "metadata": {},
   "outputs": [
    {
     "name": "stderr",
     "output_type": "stream",
     "text": [
      "[Stage 700:================================================>    (184 + 8) / 200]\r"
     ]
    },
    {
     "name": "stdout",
     "output_type": "stream",
     "text": [
      "+-------+------------------+\n",
      "|summary|       total_votes|\n",
      "+-------+------------------+\n",
      "|  count|             33406|\n",
      "|   mean|39.306142609112136|\n",
      "| stddev| 69.04621102554131|\n",
      "|    min|                 2|\n",
      "|    25%|                 6|\n",
      "|    50%|                14|\n",
      "|    75%|                40|\n",
      "|    max|              1010|\n",
      "+-------+------------------+\n",
      "\n"
     ]
    },
    {
     "name": "stderr",
     "output_type": "stream",
     "text": [
      "                                                                                \r"
     ]
    }
   ],
   "source": [
    "df[['total_votes']].summary().show()"
   ]
  },
  {
   "cell_type": "markdown",
   "metadata": {},
   "source": [
    "K-Means Clustring"
   ]
  },
  {
   "cell_type": "markdown",
   "metadata": {},
   "source": [
    "Import package yang dibutuhkan"
   ]
  },
  {
   "cell_type": "code",
   "execution_count": 337,
   "metadata": {},
   "outputs": [],
   "source": [
    "from pyspark.ml.clustering import KMeans\n",
    "from pyspark.ml.evaluation import ClusteringEvaluator\n",
    "from pyspark.ml.linalg import Vectors\n",
    "from pyspark.ml.feature import VectorAssembler"
   ]
  },
  {
   "cell_type": "code",
   "execution_count": 338,
   "metadata": {},
   "outputs": [
    {
     "name": "stdout",
     "output_type": "stream",
     "text": [
      "+--------+--------+------------+-----------+-----------+----+------------------+\n",
      "|duration|avg_vote|critics_vote|public_vote|total_votes|year|             title|\n",
      "+--------+--------+------------+-----------+-----------+----+------------------+\n",
      "|      80|     5.6|         4.2|        7.0|          8|1942|Acque di primavera|\n",
      "|      89|     4.8|         5.0|        5.0|         18|1986|     Assassination|\n",
      "+--------+--------+------------+-----------+-----------+----+------------------+\n",
      "only showing top 2 rows\n",
      "\n"
     ]
    }
   ],
   "source": [
    "df.show(2)"
   ]
  },
  {
   "cell_type": "markdown",
   "metadata": {},
   "source": [
    "Memilih kolom yang akan dibutuhkan\n"
   ]
  },
  {
   "cell_type": "code",
   "execution_count": 294,
   "metadata": {},
   "outputs": [],
   "source": [
    "feat_cols = ['duration','avg_vote','critics_vote','public_vote','total_votes','year']"
   ]
  },
  {
   "cell_type": "code",
   "execution_count": 295,
   "metadata": {},
   "outputs": [],
   "source": [
    "assembler = VectorAssembler(inputCols=feat_cols, outputCol='features')"
   ]
  },
  {
   "cell_type": "code",
   "execution_count": 296,
   "metadata": {},
   "outputs": [],
   "source": [
    "final_data = assembler.transform(df)"
   ]
  },
  {
   "cell_type": "code",
   "execution_count": 297,
   "metadata": {},
   "outputs": [],
   "source": [
    "from pyspark.ml.feature import StandardScaler"
   ]
  },
  {
   "cell_type": "code",
   "execution_count": 298,
   "metadata": {},
   "outputs": [],
   "source": [
    "scaler = StandardScaler(inputCol='features', outputCol='scaledFeatures', withStd=True, withMean=True)"
   ]
  },
  {
   "cell_type": "code",
   "execution_count": 299,
   "metadata": {},
   "outputs": [],
   "source": [
    "scalerModel = scaler.fit(final_data)"
   ]
  },
  {
   "cell_type": "code",
   "execution_count": 300,
   "metadata": {},
   "outputs": [
    {
     "name": "stdout",
     "output_type": "stream",
     "text": [
      "+--------+--------+------------+-----------+-----------+----+--------------------+--------------------+--------------------+\n",
      "|duration|avg_vote|critics_vote|public_vote|total_votes|year|               title|            features|      scaledFeatures|\n",
      "+--------+--------+------------+-----------+-----------+----+--------------------+--------------------+--------------------+\n",
      "|      80|     5.6|         4.2|        7.0|          8|1942|  Acque di primavera|[80.0,5.6,4.2,7.0...|[-0.7972114086041...|\n",
      "|      89|     4.8|         5.0|        5.0|         18|1986|       Assassination|[89.0,4.8,5.0,5.0...|[-0.4591486594416...|\n",
      "|     100|     5.0|        4.33|        6.0|         15|1953|              Attila|[100.0,5.0,4.33,6...|[-0.0459608549096...|\n",
      "|     123|     6.4|        5.71|        7.0|         20|1972|L'aventure, c'est...|[123.0,6.4,5.71,7...|[0.81797728183890...|\n",
      "|      98|     6.5|         7.0|        6.0|         15|1985|Baby: Secret of t...|[98.0,6.5,7.0,6.0...|[-0.1210859102791...|\n",
      "+--------+--------+------------+-----------+-----------+----+--------------------+--------------------+--------------------+\n",
      "only showing top 5 rows\n",
      "\n"
     ]
    }
   ],
   "source": [
    "cluster_final_data = scalerModel.transform(final_data)\n",
    "cluster_final_data.show(5)"
   ]
  },
  {
   "cell_type": "code",
   "execution_count": 301,
   "metadata": {},
   "outputs": [],
   "source": [
    "kmeans3 = KMeans(featuresCol='scaledFeatures', k=3)\n",
    "kmeans2 = KMeans(featuresCol='scaledFeatures', k=2)"
   ]
  },
  {
   "cell_type": "code",
   "execution_count": 302,
   "metadata": {},
   "outputs": [
    {
     "name": "stderr",
     "output_type": "stream",
     "text": [
      "                                                                                \r"
     ]
    }
   ],
   "source": [
    "model_k3 = kmeans3.fit(cluster_final_data)\n",
    "model_k2 = kmeans2.fit(cluster_final_data)"
   ]
  },
  {
   "cell_type": "code",
   "execution_count": 307,
   "metadata": {},
   "outputs": [],
   "source": [
    "prediction_3 = model_k3.transform(cluster_final_data)\n",
    "prediction_2 = model_k2.transform(cluster_final_data)"
   ]
  },
  {
   "cell_type": "code",
   "execution_count": 318,
   "metadata": {},
   "outputs": [
    {
     "name": "stdout",
     "output_type": "stream",
     "text": [
      "+--------+--------+------------+-----------+-----------+----+--------------------+--------------------+--------------------+----------+\n",
      "|duration|avg_vote|critics_vote|public_vote|total_votes|year|               title|            features|      scaledFeatures|prediction|\n",
      "+--------+--------+------------+-----------+-----------+----+--------------------+--------------------+--------------------+----------+\n",
      "|      80|     5.6|         4.2|        7.0|          8|1942|  Acque di primavera|[80.0,5.6,4.2,7.0...|[-0.7972114086041...|         1|\n",
      "|      89|     4.8|         5.0|        5.0|         18|1986|       Assassination|[89.0,4.8,5.0,5.0...|[-0.4591486594416...|         0|\n",
      "|     100|     5.0|        4.33|        6.0|         15|1953|              Attila|[100.0,5.0,4.33,6...|[-0.0459608549096...|         0|\n",
      "|     123|     6.4|        5.71|        7.0|         20|1972|L'aventure, c'est...|[123.0,6.4,5.71,7...|[0.81797728183890...|         1|\n",
      "|      98|     6.5|         7.0|        6.0|         15|1985|Baby: Secret of t...|[98.0,6.5,7.0,6.0...|[-0.1210859102791...|         1|\n",
      "|     100|     5.6|         5.7|        6.0|         66|1986|   Maximum Overdrive|[100.0,5.6,5.7,6....|[-0.0459608549096...|         1|\n",
      "|      96|     6.0|         6.0|        6.0|          3|1970|The Horse in the ...|[96.0,6.0,6.0,6.0...|[-0.1962109656485...|         1|\n",
      "|      88|     4.9|         4.0|        6.0|          8|1937|         Condottieri|[88.0,4.9,4.0,6.0...|[-0.4967111871263...|         0|\n",
      "|     104|     7.3|        7.29|        7.0|         20|1949|        Rope of Sand|[104.0,7.3,7.29,7...|[0.10428925582919...|         1|\n",
      "|      88|     6.8|         6.0|        8.0|          5|1986|          Crazy Love|[88.0,6.8,6.0,8.0...|[-0.4967111871263...|         1|\n",
      "+--------+--------+------------+-----------+-----------+----+--------------------+--------------------+--------------------+----------+\n",
      "only showing top 10 rows\n",
      "\n",
      "+--------+--------+------------+-----------+-----------+----+--------------------+--------------------+--------------------+----------+\n",
      "|duration|avg_vote|critics_vote|public_vote|total_votes|year|               title|            features|      scaledFeatures|prediction|\n",
      "+--------+--------+------------+-----------+-----------+----+--------------------+--------------------+--------------------+----------+\n",
      "|      80|     5.6|         4.2|        7.0|          8|1942|  Acque di primavera|[80.0,5.6,4.2,7.0...|[-0.7972114086041...|         1|\n",
      "|      89|     4.8|         5.0|        5.0|         18|1986|       Assassination|[89.0,4.8,5.0,5.0...|[-0.4591486594416...|         1|\n",
      "|     100|     5.0|        4.33|        6.0|         15|1953|              Attila|[100.0,5.0,4.33,6...|[-0.0459608549096...|         1|\n",
      "|     123|     6.4|        5.71|        7.0|         20|1972|L'aventure, c'est...|[123.0,6.4,5.71,7...|[0.81797728183890...|         0|\n",
      "|      98|     6.5|         7.0|        6.0|         15|1985|Baby: Secret of t...|[98.0,6.5,7.0,6.0...|[-0.1210859102791...|         0|\n",
      "|     100|     5.6|         5.7|        6.0|         66|1986|   Maximum Overdrive|[100.0,5.6,5.7,6....|[-0.0459608549096...|         0|\n",
      "|      96|     6.0|         6.0|        6.0|          3|1970|The Horse in the ...|[96.0,6.0,6.0,6.0...|[-0.1962109656485...|         0|\n",
      "|      88|     4.9|         4.0|        6.0|          8|1937|         Condottieri|[88.0,4.9,4.0,6.0...|[-0.4967111871263...|         1|\n",
      "|     104|     7.3|        7.29|        7.0|         20|1949|        Rope of Sand|[104.0,7.3,7.29,7...|[0.10428925582919...|         0|\n",
      "|      88|     6.8|         6.0|        8.0|          5|1986|          Crazy Love|[88.0,6.8,6.0,8.0...|[-0.4967111871263...|         0|\n",
      "+--------+--------+------------+-----------+-----------+----+--------------------+--------------------+--------------------+----------+\n",
      "only showing top 10 rows\n",
      "\n"
     ]
    }
   ],
   "source": [
    "prediction_3.show(10)\n",
    "prediction_2.show(10)"
   ]
  },
  {
   "cell_type": "code",
   "execution_count": 336,
   "metadata": {},
   "outputs": [
    {
     "name": "stderr",
     "output_type": "stream",
     "text": [
      "                                                                                \r"
     ]
    },
    {
     "name": "stdout",
     "output_type": "stream",
     "text": [
      "+----------+-----+\n",
      "|prediction|count|\n",
      "+----------+-----+\n",
      "|         1|17691|\n",
      "|         2| 2375|\n",
      "|         0|13340|\n",
      "+----------+-----+\n",
      "\n"
     ]
    },
    {
     "name": "stderr",
     "output_type": "stream",
     "text": [
      "                                                                                \r"
     ]
    },
    {
     "name": "stdout",
     "output_type": "stream",
     "text": [
      "+----------+-----+\n",
      "|prediction|count|\n",
      "+----------+-----+\n",
      "|         1|14015|\n",
      "|         0|19391|\n",
      "+----------+-----+\n",
      "\n"
     ]
    }
   ],
   "source": [
    "prediction_3.groupBy('prediction').count().show() \n",
    "prediction_2.groupBy('prediction').count().show()\n"
   ]
  },
  {
   "cell_type": "markdown",
   "metadata": {},
   "source": [
    "Melakukan Centering atau mencari nilai tengah"
   ]
  },
  {
   "cell_type": "code",
   "execution_count": 314,
   "metadata": {},
   "outputs": [
    {
     "name": "stdout",
     "output_type": "stream",
     "text": [
      "Cluster centers : \n",
      "[-0.12723276 -0.99376918 -0.91328808 -0.87207236 -0.24815632  0.24187258]\n",
      "[-0.05079976  0.63242297  0.57951123  0.55895279 -0.18730137 -0.21986635]\n",
      "[1.0930457  0.87102573 0.81310731 0.73474168 2.78903318 0.27918966]\n"
     ]
    }
   ],
   "source": [
    "center_3 = model_k3.clusterCenters()\n",
    "print('Cluster centers : ')\n",
    "for center in center_3:\n",
    "    print(center)"
   ]
  },
  {
   "cell_type": "code",
   "execution_count": 319,
   "metadata": {},
   "outputs": [
    {
     "name": "stdout",
     "output_type": "stream",
     "text": [
      "Cluster centers : \n",
      "[ 0.10356183  0.69107253  0.63363525  0.60723272  0.18311434 -0.15641466]\n",
      "[-0.14281236 -0.95299306 -0.87378671 -0.83737746 -0.25251574  0.21569672]\n"
     ]
    }
   ],
   "source": [
    "center_2 = model_k2.clusterCenters()\n",
    "print('Cluster centers : ')\n",
    "for center in center_2:\n",
    "    print(center)"
   ]
  },
  {
   "cell_type": "markdown",
   "metadata": {},
   "source": [
    "Evaluator\n"
   ]
  },
  {
   "cell_type": "code",
   "execution_count": 330,
   "metadata": {},
   "outputs": [],
   "source": [
    "evaluator = ClusteringEvaluator(predictionCol='prediction', featuresCol='scaledFeatures',metricName='silhouette')"
   ]
  },
  {
   "cell_type": "code",
   "execution_count": 331,
   "metadata": {},
   "outputs": [
    {
     "name": "stderr",
     "output_type": "stream",
     "text": [
      "                                                                                \r"
     ]
    }
   ],
   "source": [
    "silhouette3 = evaluator.evaluate(prediction_3)\n",
    "silhouette2 = evaluator.evaluate(prediction_2)\n"
   ]
  },
  {
   "cell_type": "code",
   "execution_count": 339,
   "metadata": {},
   "outputs": [
    {
     "name": "stdout",
     "output_type": "stream",
     "text": [
      "silhouette with squared euclidean distance 3 cluster : 0.4542696284341163\n",
      "silhouette with squared euclidean distance 2 cluster : 0.413957165407153\n"
     ]
    }
   ],
   "source": [
    "print('silhouette with squared euclidean distance 3 cluster : ' + str(silhouette3))\n",
    "print('silhouette with squared euclidean distance 2 cluster : ' + str(silhouette2))"
   ]
  }
 ],
 "metadata": {
  "interpreter": {
   "hash": "81262c84f7be52608fcf6efa90a185f038317050d881a12a278194a40a377bf7"
  },
  "kernelspec": {
   "display_name": "Python 3.9.7 ('base')",
   "language": "python",
   "name": "python3"
  },
  "language_info": {
   "codemirror_mode": {
    "name": "ipython",
    "version": 3
   },
   "file_extension": ".py",
   "mimetype": "text/x-python",
   "name": "python",
   "nbconvert_exporter": "python",
   "pygments_lexer": "ipython3",
   "version": "3.9.7"
  },
  "orig_nbformat": 4
 },
 "nbformat": 4,
 "nbformat_minor": 2
}
